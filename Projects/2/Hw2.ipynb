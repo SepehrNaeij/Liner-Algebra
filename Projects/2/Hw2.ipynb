{
 "cells": [
  {
   "cell_type": "code",
   "execution_count": null,
   "metadata": {},
   "outputs": [],
   "source": [
    "import numpy as np"
   ]
  },
  {
   "cell_type": "code",
   "execution_count": null,
   "metadata": {},
   "outputs": [],
   "source": [
    "#Question1\n",
    "a = np.array([1,3,5],\n",
    "             [2,4,6],\n",
    "             [1,1,1])\n",
    "\n",
    "b = np.array([0,3,3],\n",
    "             [4,9,6],\n",
    "             [5,7,1])\n",
    "\n",
    "print(np.add(a,b))"
   ]
  },
  {
   "cell_type": "code",
   "execution_count": null,
   "metadata": {},
   "outputs": [],
   "source": [
    "#Question2\n",
    "a = np.array([1,3,5],\n",
    "             [3,5,7],\n",
    "             [5,7,9])\n",
    "\n",
    "b = np.array([0,2,3],\n",
    "             [2,9,4],\n",
    "             [9,4,1])\n",
    "\n",
    "result1 = a.dot(b)\n",
    "result2 = b.dot(a)\n",
    "\n",
    "print(\"a * b =\\n\" + result1)\n",
    "print(\"b * a =\\n\" + result2)"
   ]
  },
  {
   "cell_type": "code",
   "execution_count": null,
   "metadata": {},
   "outputs": [],
   "source": [
    "#Question3\n",
    "a = np.eye(3)\n",
    "\n",
    "print(a)"
   ]
  },
  {
   "cell_type": "code",
   "execution_count": null,
   "metadata": {},
   "outputs": [],
   "source": [
    "#Question4\n",
    "a = np.zeros((3,2,4))\n",
    "\n",
    "print(a)"
   ]
  },
  {
   "cell_type": "code",
   "execution_count": null,
   "metadata": {},
   "outputs": [],
   "source": [
    "#Question5\n",
    "a = np.linspace(start=1,stop=97,num = 25,dtype = int)  \n",
    "\n",
    "print(a)"
   ]
  },
  {
   "cell_type": "code",
   "execution_count": null,
   "metadata": {},
   "outputs": [],
   "source": [
    "#Question6\n",
    "\n",
    "#for make our job easier, the sizes of both array are Equals together\n",
    "\n",
    "a = np.array([1,2,13,4,15,6,7,18,19])\n",
    "b = np.array([3,1,0,10,12,7,18,15,9])\n",
    "\n",
    "same_index = np.flatnonzero(np.in1d(a,b))\n",
    "\n",
    "print(same_index)"
   ]
  },
  {
   "cell_type": "code",
   "execution_count": null,
   "metadata": {},
   "outputs": [],
   "source": [
    "#Question7\n",
    "a = np.linspace(start=51,stop=149,num = 10,dtype = int)\n",
    "\n",
    "print(a)"
   ]
  },
  {
   "cell_type": "code",
   "execution_count": null,
   "metadata": {},
   "outputs": [],
   "source": [
    "#Question8\n",
    "a = np.ones((6,4))\n",
    "\n",
    "print(a)"
   ]
  }
 ],
 "metadata": {
  "kernelspec": {
   "display_name": "Python 3",
   "language": "python",
   "name": "python3"
  },
  "language_info": {
   "codemirror_mode": {
    "name": "ipython",
    "version": 3
   },
   "file_extension": ".py",
   "mimetype": "text/x-python",
   "name": "python",
   "nbconvert_exporter": "python",
   "pygments_lexer": "ipython3",
   "version": "3.10.0"
  },
  "orig_nbformat": 4
 },
 "nbformat": 4,
 "nbformat_minor": 2
}

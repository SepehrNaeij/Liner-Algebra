{
 "cells": [
  {
   "cell_type": "markdown",
   "metadata": {
    "collapsed": true,
    "pycharm": {
     "name": "#%% md\n"
    }
   },
   "source": [
    "در سلول زیر بخش مربوط به ترانهاده را کامل کنید"
   ]
  },
  {
   "cell_type": "code",
   "execution_count": 51,
   "metadata": {
    "collapsed": false,
    "pycharm": {
     "name": "#%%\n"
    }
   },
   "outputs": [],
   "source": [
    "def transpose_matrix(a):\n",
    "    result_transpose = []\n",
    "    for elements in range(len(a)):\n",
    "        result_transpose.append(a[elements])\n",
    "        \n",
    "    print(\"[\") \n",
    "    for i in result_transpose[0]:\n",
    "       print(\"[\",i,\"]\")  \n",
    "    print(\"]\")   "
   ]
  },
  {
   "cell_type": "code",
   "execution_count": 60,
   "metadata": {},
   "outputs": [
    {
     "name": "stdout",
     "output_type": "stream",
     "text": [
      "[\n",
      "[ 4 ]\n",
      "[ 0 ]\n",
      "[ 0 ]\n",
      "[ 3 ]\n",
      "[ 0 ]\n",
      "[ 1 ]\n",
      "[ 1 ]\n",
      "[ 2 ]\n",
      "[ 1 ]\n",
      "[ 1 ]\n",
      "[ 9 ]\n",
      "]\n",
      "test \n",
      " [[4]\n",
      " [0]\n",
      " [0]\n",
      " [3]\n",
      " [0]\n",
      " [1]\n",
      " [1]\n",
      " [2]\n",
      " [1]\n",
      " [1]\n",
      " [9]]\n"
     ]
    }
   ],
   "source": [
    "import numpy as np\n",
    "\n",
    "A =[[4,0,0,3,0,1,1,2,1,1,9]]\n",
    "ATesT=np.matrix(A)\n",
    "\n",
    "transpose_matrix(A)\n",
    "print(\"test\",'\\n',ATesT.T)\n"
   ]
  },
  {
   "cell_type": "markdown",
   "metadata": {
    "collapsed": false,
    "pycharm": {
     "name": "#%% md\n"
    }
   },
   "source": [
    "در سلول زیر بخش مربوط به ضرب را کامل کنید\n"
   ]
  },
  {
   "cell_type": "code",
   "execution_count": 57,
   "metadata": {
    "collapsed": false,
    "pycharm": {
     "name": "#%%\n"
    }
   },
   "outputs": [],
   "source": [
    "                  \n",
    "def multiplication_matrix(A, B):\n",
    "    result_multiplication = [[0 for x in range(len(B[0]))] for y in range(len(A))]\n",
    "    for elements1 in range(len(A)):\n",
    "        for elements2 in range(len(B[0])):\n",
    "            for elements3 in range(len(B)):\n",
    "                result_multiplication[elements1][elements2] += A[elements1][elements3] * B[elements3][elements2]\n",
    "    \n",
    "    print(result_multiplication)"
   ]
  },
  {
   "cell_type": "code",
   "execution_count": 59,
   "metadata": {},
   "outputs": [
    {
     "name": "stdout",
     "output_type": "stream",
     "text": [
      "[[832]]\n",
      "Test:\n",
      "[[832]]\n"
     ]
    }
   ],
   "source": [
    "import numpy as np\n",
    "\n",
    "A = [[4,0,0,3,0,1,1,2,1,1,9]]\n",
    "B = [[16],[0],[0],[9],[0],[1],[1],[4],[1],[1],[81]]\n",
    "A2=np.matrix(A)\n",
    "B2=np.matrix(B)\n",
    "\n",
    "multiplication_matrix(A,B)\n",
    "print(\"Test:\")\n",
    "print(np.dot(A2,B2))"
   ]
  },
  {
   "cell_type": "markdown",
   "metadata": {
    "collapsed": false,
    "pycharm": {
     "name": "#%% md\n"
    }
   },
   "source": [
    "در سلول زیر بخش مربوط به جمع را کامل کنید\n",
    "\n"
   ]
  },
  {
   "cell_type": "code",
   "execution_count": 19,
   "metadata": {
    "collapsed": false,
    "pycharm": {
     "name": "#%%\n"
    }
   },
   "outputs": [],
   "source": [
    "def addition_matrix(a, b):\n",
    "    result_addition = [[0 for i in range(len(a[0]))] for j in range(len(a))]\n",
    "    for elements1 in range(len(a)):\n",
    "        for elements2 in range(len(b[0])): \n",
    "            result_addition[elements1][elements2]=a[elements1][elements2]+b[elements1][elements2]\n",
    "    for i in result_addition:\n",
    "     print(i)        "
   ]
  },
  {
   "cell_type": "code",
   "execution_count": 20,
   "metadata": {},
   "outputs": [
    {
     "name": "stdout",
     "output_type": "stream",
     "text": [
      "[20]\n",
      "[0]\n",
      "[0]\n",
      "[12]\n",
      "[0]\n",
      "[2]\n",
      "[2]\n",
      "[6]\n",
      "[2]\n",
      "[2]\n",
      "[90]\n",
      "\n",
      " test:  \n",
      " [[20]\n",
      " [ 0]\n",
      " [ 0]\n",
      " [12]\n",
      " [ 0]\n",
      " [ 2]\n",
      " [ 2]\n",
      " [ 6]\n",
      " [ 2]\n",
      " [ 2]\n",
      " [90]]\n"
     ]
    }
   ],
   "source": [
    "import numpy as np\n",
    "\n",
    "A=[[4],[0],[0],[3],[0],[1],[1],[2],[1],[1],[9]]\n",
    "B=[[16],[0],[0],[9],[0],[1],[1],[4],[1],[1],[81]]\n",
    "ATest=np.matrix(A)\n",
    "BTest=np.matrix(B)\n",
    "\n",
    "addition_matrix(A,B)\n",
    "print('\\n',\"test: \",'\\n',np.add(A,B))\n"
   ]
  },
  {
   "cell_type": "markdown",
   "metadata": {
    "collapsed": false,
    "pycharm": {
     "name": "#%% md\n"
    }
   },
   "source": [
    "در این قسمت به کاربر یک منو نمایش دهید تا عملیات مورد نظر خودش را انتخاب کند\n"
   ]
  },
  {
   "cell_type": "code",
   "execution_count": 50,
   "metadata": {
    "collapsed": false,
    "pycharm": {
     "name": "#%%\n"
    }
   },
   "outputs": [
    {
     "name": "stdout",
     "output_type": "stream",
     "text": [
      "[\n",
      "[ 2 ]\n",
      "[ 3 ]\n",
      "]\n"
     ]
    }
   ],
   "source": [
    "n=int(input(\"Please Enter What You Want to Calculate: 1.transpose 2.multiplication 3.addition  \"))\n",
    "\n",
    "def matrix_input(row,col):\n",
    "   A=[[0 for i in range(col)] for j in range(row)]\n",
    "   for m in range(row):\n",
    "      row_list=list(map(int,input(\"enter rows : \").split()))\n",
    "      A[m]=row_list\n",
    "   return A\n",
    "\n",
    "row_first=int(input(\"enter rows count : \"))\n",
    "col_first=int(input(\"enter columns count : \"))\n",
    "first_matrix=matrix_input(row_first,col_first)\n",
    "\n",
    "if n == 1:\n",
    "    transpose_matrix(first_matrix)\n",
    "elif n == 2:\n",
    "    second_row=int(input(\"enter rows count : \"))\n",
    "    second_col=int(input(\"enter columns count : \"))\n",
    "    second_matrix=matrix_input(second_row,second_col)\n",
    "    multiplication_matrix(first_matrix, second_matrix)\n",
    "elif n == 3:\n",
    "    second_row=int(input(\"enter rows count : \"))\n",
    "    second_col=int(input(\"enter columns count : \"))\n",
    "    second_matrix=matrix_input(second_row,second_col)\n",
    "    addition_matrix(first_matrix, second_matrix)\n",
    "\n",
    "    "
   ]
  }
 ],
 "metadata": {
  "kernelspec": {
   "display_name": "Python 3",
   "language": "python",
   "name": "python3"
  },
  "language_info": {
   "codemirror_mode": {
    "name": "ipython",
    "version": 3
   },
   "file_extension": ".py",
   "mimetype": "text/x-python",
   "name": "python",
   "nbconvert_exporter": "python",
   "pygments_lexer": "ipython3",
   "version": "3.10.0"
  },
  "vscode": {
   "interpreter": {
    "hash": "0ffa8e17a6ebc7929d542d57f75c42e150950e435723397abca9a21b1728eb7f"
   }
  }
 },
 "nbformat": 4,
 "nbformat_minor": 0
}

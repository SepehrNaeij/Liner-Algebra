{
 "cells": [
  {
   "attachments": {},
   "cell_type": "markdown",
   "metadata": {
    "collapsed": true,
    "pycharm": {
     "name": "#%% md\n"
    }
   },
   "source": [
    ".در سلول زیر، تابعی برای محاسبه‌ی بازگشتی دترمینان تعریف کنید"
   ]
  },
  {
   "cell_type": "code",
   "execution_count": 12,
   "metadata": {
    "collapsed": false,
    "pycharm": {
     "name": "#%%\n"
    }
   },
   "outputs": [
    {
     "name": "stdout",
     "output_type": "stream",
     "text": [
      "27\n"
     ]
    }
   ],
   "source": [
    "import numpy as np\n",
    "x = np.array([[1,2,3] , [4,5,3] , [2,8,9]])\n",
    "def determinat(a):\n",
    "    if len(a) == 1:\n",
    "        return a[0][0]\n",
    "    elif len(a) == 2:\n",
    "        return a[0][0] * a[1][1] - a[0][1] * a[1][0]\n",
    "    else:\n",
    "        determinal = 0\n",
    "        for i in range(len(a)):\n",
    "            main_result = []\n",
    "            pow = (-1) ** i\n",
    "            for j in range(1, len(a)):\n",
    "                result = []\n",
    "                for k in range(len(a)):\n",
    "                    if k != i:\n",
    "                        result.append(a[j][k])        \n",
    "                main_result.append(result)\n",
    "            determinal += pow * a[0][i] * determinat(main_result)\n",
    "    return determinal\n",
    "print(determinat(x))"
   ]
  },
  {
   "attachments": {},
   "cell_type": "markdown",
   "metadata": {
    "collapsed": false,
    "pycharm": {
     "name": "#%% md\n"
    }
   },
   "source": [
    ".در سلول زیر قانون کرامر را در تابعی پیاده‌سازی کنید"
   ]
  },
  {
   "cell_type": "code",
   "execution_count": 16,
   "metadata": {
    "collapsed": false,
    "pycharm": {
     "name": "#%%\n"
    }
   },
   "outputs": [],
   "source": [
    "def cramer(matrix, result):\n",
    "    det = determinat(matrix)\n",
    "    if det == 0:\n",
    "        return \"The system has no unique solution\"\n",
    "    n = len(matrix[0])\n",
    "    solutions = []\n",
    "    for i in range(n):\n",
    "        matrix_copy = matrix.copy()\n",
    "        matrix_copy[:,i] = result\n",
    "        solutions.append(round(np.linalg.det(matrix_copy)/det,2))\n",
    "    return solutions\n"
   ]
  },
  {
   "attachments": {},
   "cell_type": "markdown",
   "metadata": {
    "collapsed": false,
    "pycharm": {
     "name": "#%% md\n"
    }
   },
   "source": [
    "\tT(cX)=cT(X)"
   ]
  },
  {
   "cell_type": "code",
   "execution_count": 6,
   "metadata": {
    "collapsed": false,
    "pycharm": {
     "name": "#%%\n"
    }
   },
   "outputs": [
    {
     "name": "stdout",
     "output_type": "stream",
     "text": [
      "[[ 6  0  3  9]\n",
      " [ 9  6 12  0]]\n",
      "[[ 6  0  3  9]\n",
      " [ 9  6 12  0]]\n"
     ]
    }
   ],
   "source": [
    "import numpy as np\n",
    "x = np.array([[2, 3] , [0 , 2] , [1 , 4] , [3 , 0]] )\n",
    "Tx = np.transpose(x)\n",
    "c = 3\n",
    "\n",
    "cx = c * x\n",
    "cTX = c * Tx\n",
    "TcX = np.transpose(cx)\n",
    "assert np.array_equal(TcX, cTX)\n",
    "print(cTX)\n",
    "print(TcX)"
   ]
  },
  {
   "attachments": {},
   "cell_type": "markdown",
   "metadata": {
    "collapsed": false,
    "pycharm": {
     "name": "#%% md\n"
    }
   },
   "source": [
    "\tT(u+v)=T(u)+T(v)"
   ]
  },
  {
   "cell_type": "code",
   "execution_count": 7,
   "metadata": {
    "collapsed": false,
    "pycharm": {
     "name": "#%%\n"
    }
   },
   "outputs": [
    {
     "name": "stdout",
     "output_type": "stream",
     "text": [
      "[[3 4 3 3]\n",
      " [7 3 8 9]]\n",
      "[[3 4 3 3]\n",
      " [7 3 8 9]]\n"
     ]
    }
   ],
   "source": [
    "import numpy as np\n",
    "u = np.array([[2 , 3] , [0 , 3] , [2 , 3] , [2 , 2]] )\n",
    "v = np.array([[1 , 4] , [4 , 0] , [1 , 5] , [1 , 7]])\n",
    " \n",
    "Tu = np.transpose(u)\n",
    "Tv = np.transpose(v)\n",
    "Tuv1 = np.transpose(u+v)\n",
    "Tuv2 = Tu + Tv\n",
    "assert np.allclose(Tuv1, Tuv2)\n",
    "print(Tuv1)\n",
    "print(Tuv2)"
   ]
  }
 ],
 "metadata": {
  "kernelspec": {
   "display_name": "Python 3",
   "language": "python",
   "name": "python3"
  },
  "language_info": {
   "codemirror_mode": {
    "name": "ipython",
    "version": 3
   },
   "file_extension": ".py",
   "mimetype": "text/x-python",
   "name": "python",
   "nbconvert_exporter": "python",
   "pygments_lexer": "ipython3",
   "version": "3.10.0"
  }
 },
 "nbformat": 4,
 "nbformat_minor": 0
}
